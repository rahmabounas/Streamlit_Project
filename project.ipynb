{
 "cells": [
  {
   "cell_type": "markdown",
   "id": "25c42c74",
   "metadata": {},
   "source": [
    "this is a streamlit project"
   ]
  },
  {
   "cell_type": "markdown",
   "id": "22b1ba05",
   "metadata": {},
   "source": []
  }
 ],
 "metadata": {
  "language_info": {
   "name": "python"
  }
 },
 "nbformat": 4,
 "nbformat_minor": 5
}
